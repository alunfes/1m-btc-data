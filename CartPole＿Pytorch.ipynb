{
  "nbformat": 4,
  "nbformat_minor": 0,
  "metadata": {
    "colab": {
      "provenance": [],
      "authorship_tag": "ABX9TyPWG4EyweNLYMFt/4Ue7FBB",
      "include_colab_link": true
    },
    "kernelspec": {
      "name": "python3",
      "display_name": "Python 3"
    },
    "language_info": {
      "name": "python"
    },
    "accelerator": "GPU",
    "gpuClass": "standard"
  },
  "cells": [
    {
      "cell_type": "markdown",
      "metadata": {
        "id": "view-in-github",
        "colab_type": "text"
      },
      "source": [
        "<a href=\"https://colab.research.google.com/github/alunfes/1m-btc-data/blob/master/CartPole%EF%BC%BFPytorch.ipynb\" target=\"_parent\"><img src=\"https://colab.research.google.com/assets/colab-badge.svg\" alt=\"Open In Colab\"/></a>"
      ]
    },
    {
      "cell_type": "code",
      "execution_count": 1,
      "metadata": {
        "colab": {
          "base_uri": "https://localhost:8080/"
        },
        "id": "Rlbd30ttjbTv",
        "outputId": "da26afba-0263-4884-d2e6-b079995a0554"
      },
      "outputs": [
        {
          "output_type": "stream",
          "name": "stdout",
          "text": [
            "Looking in indexes: https://pypi.org/simple, https://us-python.pkg.dev/colab-wheels/public/simple/\n",
            "Requirement already satisfied: stable-baselines3 in /usr/local/lib/python3.8/dist-packages (1.7.0)\n",
            "Requirement already satisfied: matplotlib in /usr/local/lib/python3.8/dist-packages (from stable-baselines3) (3.2.2)\n",
            "Requirement already satisfied: numpy in /usr/local/lib/python3.8/dist-packages (from stable-baselines3) (1.21.6)\n",
            "Requirement already satisfied: gym==0.21 in /usr/local/lib/python3.8/dist-packages (from stable-baselines3) (0.21.0)\n",
            "Requirement already satisfied: pandas in /usr/local/lib/python3.8/dist-packages (from stable-baselines3) (1.3.5)\n",
            "Requirement already satisfied: cloudpickle in /usr/local/lib/python3.8/dist-packages (from stable-baselines3) (2.2.0)\n",
            "Requirement already satisfied: importlib-metadata~=4.13 in /usr/local/lib/python3.8/dist-packages (from stable-baselines3) (4.13.0)\n",
            "Requirement already satisfied: torch>=1.11 in /usr/local/lib/python3.8/dist-packages (from stable-baselines3) (1.13.1+cu116)\n",
            "Requirement already satisfied: zipp>=0.5 in /usr/local/lib/python3.8/dist-packages (from importlib-metadata~=4.13->stable-baselines3) (3.11.0)\n",
            "Requirement already satisfied: typing-extensions in /usr/local/lib/python3.8/dist-packages (from torch>=1.11->stable-baselines3) (4.4.0)\n",
            "Requirement already satisfied: python-dateutil>=2.1 in /usr/local/lib/python3.8/dist-packages (from matplotlib->stable-baselines3) (2.8.2)\n",
            "Requirement already satisfied: kiwisolver>=1.0.1 in /usr/local/lib/python3.8/dist-packages (from matplotlib->stable-baselines3) (1.4.4)\n",
            "Requirement already satisfied: cycler>=0.10 in /usr/local/lib/python3.8/dist-packages (from matplotlib->stable-baselines3) (0.11.0)\n",
            "Requirement already satisfied: pyparsing!=2.0.4,!=2.1.2,!=2.1.6,>=2.0.1 in /usr/local/lib/python3.8/dist-packages (from matplotlib->stable-baselines3) (3.0.9)\n",
            "Requirement already satisfied: pytz>=2017.3 in /usr/local/lib/python3.8/dist-packages (from pandas->stable-baselines3) (2022.7)\n",
            "Requirement already satisfied: six>=1.5 in /usr/local/lib/python3.8/dist-packages (from python-dateutil>=2.1->matplotlib->stable-baselines3) (1.15.0)\n",
            "Looking in indexes: https://pypi.org/simple, https://us-python.pkg.dev/colab-wheels/public/simple/\n",
            "Requirement already satisfied: torchinfo in /usr/local/lib/python3.8/dist-packages (1.7.1)\n"
          ]
        }
      ],
      "source": [
        "!pip install stable-baselines3\n",
        "!pip install torchinfo"
      ]
    },
    {
      "cell_type": "code",
      "source": [
        "import numpy as np\n",
        "import pandas as pd\n",
        "import gym\n",
        "import matplotlib.pyplot as plt\n",
        "import random\n",
        "import time\n",
        "import math\n",
        "\n",
        "from sklearn.preprocessing import MinMaxScaler, StandardScaler, PowerTransformer, RobustScaler, QuantileTransformer\n",
        "from gym import spaces\n",
        "from stable_baselines3.common.vec_env import DummyVecEnv\n",
        "from stable_baselines3.common.env_checker import check_env\n",
        "from stable_baselines3.common.env_util import make_vec_env\n",
        "\n",
        "import torch\n",
        "import torch.nn as nn\n",
        "import torch.nn.functional as F\n",
        "from torchvision import datasets, transforms\n",
        "from torch.utils.data import Dataset, DataLoader\n",
        "from torchinfo import summary\n",
        "import torch.optim as optim\n",
        "\n",
        "from collections import deque, namedtuple\n",
        "from itertools import count\n",
        "from IPython.display import clear_output"
      ],
      "metadata": {
        "id": "HcsUN17xjsrp"
      },
      "execution_count": 2,
      "outputs": []
    },
    {
      "cell_type": "code",
      "source": [
        "class DQN(nn.Module):\n",
        "    def __init__(self, obs_length, hidden_side, action_num):\n",
        "        super(DQN, self).__init__()\n",
        "        self.fc1 = nn.Linear(obs_length, hidden_size)\n",
        "        self.ln1 = nn.LayerNorm(hidden_size)\n",
        "        self.do1 = nn.Dropout(0.2)\n",
        "        self.fc2 = nn.Linear(hidden_size, hidden_size)\n",
        "        self.ln2 = nn.LayerNorm(hidden_size)\n",
        "        self.do2 = nn.Dropout(0.2)\n",
        "        self.fc3 = nn.Linear(hidden_size, action_num)\n",
        "\n",
        "    def forward(self, x):\n",
        "        h = F.relu(self.fc1(x))\n",
        "        h = self.ln1(h)\n",
        "        h = self.do1(h)\n",
        "        h = F.relu(self.fc2(h))\n",
        "        h = self.ln2(h)\n",
        "        h = self.do2(h)\n",
        "        y = self.fc3(h)\n",
        "        return y"
      ],
      "metadata": {
        "id": "-ti4lYaTkTid"
      },
      "execution_count": 13,
      "outputs": []
    },
    {
      "cell_type": "code",
      "source": [
        "class ReplayMemory:\n",
        "    global Transition\n",
        "    def __init__(self, capacity):\n",
        "        self.memory = deque([], maxlen = capacity)\n",
        "        self.Transition = namedtuple('Transition', ('state', 'action', 'next_state', 'reward'))\n",
        "\n",
        "    def push(self, *args):\n",
        "        self.memory.append(self.Transition(*args))\n",
        "    \n",
        "    def sample(self, batch_size):\n",
        "        return random.sample(self.memory, batch_size)\n",
        "    \n",
        "    def get_len(self):\n",
        "        return len(self.memory)"
      ],
      "metadata": {
        "id": "RkXEXJRZl4HQ"
      },
      "execution_count": 10,
      "outputs": []
    },
    {
      "cell_type": "code",
      "source": [
        "class TrainMain:\n",
        "    def __init__(self, hidden_size, action_num, batch_size, num_episode, max_steps, memory_size, gamma, TAU, display_freq):\n",
        "        self.device = 'cuda' if torch.cuda.is_available() else 'cpu'\n",
        "        print('device=', self.device)\n",
        "        self.env = gym.make('CartPole-v0')\n",
        "        self.env._max_episode_steps = max_steps\n",
        "        state = self.env.reset()\n",
        "        self.batch_size = batch_size\n",
        "        self.num_episode = num_episode\n",
        "        self.max_steps = max_steps\n",
        "        self.memory_size = memory_size\n",
        "        self.gamma = gamma\n",
        "        self.TAU = TAU\n",
        "        self.display_freq = display_freq\n",
        "        self.next_display = display_freq\n",
        "        self.target_nn = DQN(len(state), hidden_size, action_num).to(self.device)\n",
        "        self.q_nn = DQN(len(state), hidden_size, action_num).to(self.device)\n",
        "        self.target_nn.load_state_dict(self.q_nn.state_dict())\n",
        "        self.optimizer = optim.Adam(self.q_nn.parameters(), lr=1e-03)\n",
        "        self.memory = ReplayMemory(self.memory_size)\n",
        "        self.eps = 0.99\n",
        "        self.eps_min = 0.0\n",
        "        self.eps_decay = int(num_episode * 0.2)\n",
        "        self.log_loss = []\n",
        "        self.log_reward = []\n",
        "        self.log_duration = []\n",
        "    \n",
        "    def select_action(self, state, current_step):\n",
        "        if (self.eps_min + (self.eps - self.eps_min) * math.exp(-1.0 * current_step / self.eps_decay)) > random.random():\n",
        "            with torch.no_grad():\n",
        "                return self.q_nn(state).max(1)[1].view(1,1) ##return unit of maximum output\n",
        "        else:\n",
        "            return torch.tensor([[self.env.action_space.sample()]], device = self.device, dtype=torch.int)\n",
        "    \n",
        "    def optimize_model(self):\n",
        "        if self.memory.get_len() < self.batch_size:\n",
        "            return\n",
        "        else:\n",
        "            transitions = self.memory.sample(self.batch_size)\n",
        "            batch = self.memory.Transition(*zip(*transitions))\n",
        "            non_final_mask = torch.tensor(tuple(map(lambda s: s is not None, batch.next_state)), device = self.device, dtype=torch.bool) #next_stateがNoneになっているか否かでtrue, falseのmask作成\n",
        "            non_final_next_states = torch.cat([s for s in batch.next_state if s is not None])\n",
        "            state_batch = torch.cat(batch.state)\n",
        "            action_batch = torch.cat(batch.action)\n",
        "            reward_batch = torch.cat(batch.reward)\n",
        "            state_action_values = self.q_nn(state_batch).gather(1, action_batch)\n",
        "            next_state_values = torch.zeros(self.batch_size, device = self.device)\n",
        "            with torch.no_grad():                \n",
        "                next_state_values[non_final_mask] = self.target_nn(non_final_next_states).max(1)[0]\n",
        "            expected_state_action_values = (next_state_values * self.gamma) + reward_batch\n",
        "            #compute huber loss\n",
        "            criterion = nn.SmoothL1Loss()\n",
        "            loss = criterion(state_action_values, expected_state_action_values.unsqueeze(1))\n",
        "            self.log_loss.append(loss.clone().detach().cpu().numpy().sum())\n",
        "            self.optimizer.zero_grad()\n",
        "            loss.backward()\n",
        "            torch.nn.utils.clip_grad_value_(self.q_nn.parameters(), 100)\n",
        "            self.optimizer.step()\n",
        "\n",
        "    def display_chart(self, episode):\n",
        "        if episode >= self.next_display:            \n",
        "            fig = plt.figure(figsize = (10,6), facecolor='lightblue')\n",
        "            ax1 = fig.add_subplot(2,1,1)\n",
        "            ax2 = fig.add_subplot(2,1,2)\n",
        "            ax1.plot(np.arange(len(self.log_duration)), self.log_duration, color='blue', label='duration')\n",
        "            ax2.plot(np.arange(len(self.log_loss)), self.log_loss, color='red', label='loss')\n",
        "            plt.cla()\n",
        "            plt.show()\n",
        "            self.next_display += self.display_freq\n",
        "    \n",
        "    def training_loop(self):\n",
        "        for i in range(self.num_episode):\n",
        "            state = self.env.reset()\n",
        "            state = torch.tensor(state, dtype=torch.float32, device=self.device).unsqueeze(0)\n",
        "            for t in count():\n",
        "                action = self.select_action(state, t)\n",
        "                next_state, reward, is_done, truncated = self.env.step(action.item())\n",
        "                self.log_reward.append(reward)\n",
        "                reward = torch.tensor([reward], device=self.device)\n",
        "                if is_done:\n",
        "                    next_state = None\n",
        "                else:\n",
        "                    next_state = torch.tensor(next_state, dtype = torch.float32, device=self.device).unsqueeze(0)\n",
        "                self.memory.push(state, action, next_state, reward)\n",
        "                state = next_state\n",
        "                self.optimize_model()\n",
        "                target_nn_state_dict = self.target_nn.state_dict()\n",
        "                q_nn_state_dict = self.q_nn.state_dict()\n",
        "                for key in q_nn_state_dict:\n",
        "                    target_nn_state_dict[key] = q_nn_state_dict[key] * self.TAU + target_nn_state_dict[key] * (1-self.TAU)\n",
        "                    self.target_nn.load_state_dict(target_nn_state_dict)\n",
        "                if is_done:\n",
        "                    self.log_duration.append(t+1)\n",
        "                    break\n",
        "            clear_output(wait=True)\n",
        "            self.display_chart(i)\n",
        "        self.display_chart(self.num_episode * 2)\n",
        "        print('Completed !')"
      ],
      "metadata": {
        "id": "H0SvRvt1nXc5"
      },
      "execution_count": 18,
      "outputs": []
    },
    {
      "cell_type": "code",
      "source": [
        "hidden_size = 16\n",
        "batch_size = 1280\n",
        "num_episode = 10000\n",
        "max_steps = 40000\n",
        "display_freq = 10\n",
        "memory_size = 10000\n",
        "gamma = 0.99\n",
        "TAU = 0.005\n",
        "\n",
        "st = time.time()\n",
        "dqn = TrainMain(hidden_size, 2, batch_size, num_episode, max_steps, memory_size, gamma, TAU, display_freq)\n",
        "dqn.training_loop()\n",
        "print('time=', time.time() - st)"
      ],
      "metadata": {
        "colab": {
          "base_uri": "https://localhost:8080/",
          "height": 375
        },
        "id": "fpANevPEnW6p",
        "outputId": "bc1327f2-c445-4ca5-cb8b-2e9cfcee338d"
      },
      "execution_count": 19,
      "outputs": [
        {
          "output_type": "error",
          "ename": "KeyboardInterrupt",
          "evalue": "ignored",
          "traceback": [
            "\u001b[0;31m---------------------------------------------------------------------------\u001b[0m",
            "\u001b[0;31mKeyboardInterrupt\u001b[0m                         Traceback (most recent call last)",
            "\u001b[0;32m<ipython-input-19-325a419f2a6a>\u001b[0m in \u001b[0;36m<module>\u001b[0;34m\u001b[0m\n\u001b[1;32m     10\u001b[0m \u001b[0mst\u001b[0m \u001b[0;34m=\u001b[0m \u001b[0mtime\u001b[0m\u001b[0;34m.\u001b[0m\u001b[0mtime\u001b[0m\u001b[0;34m(\u001b[0m\u001b[0;34m)\u001b[0m\u001b[0;34m\u001b[0m\u001b[0;34m\u001b[0m\u001b[0m\n\u001b[1;32m     11\u001b[0m \u001b[0mdqn\u001b[0m \u001b[0;34m=\u001b[0m \u001b[0mTrainMain\u001b[0m\u001b[0;34m(\u001b[0m\u001b[0mhidden_size\u001b[0m\u001b[0;34m,\u001b[0m \u001b[0;36m2\u001b[0m\u001b[0;34m,\u001b[0m \u001b[0mbatch_size\u001b[0m\u001b[0;34m,\u001b[0m \u001b[0mnum_episode\u001b[0m\u001b[0;34m,\u001b[0m \u001b[0mmax_steps\u001b[0m\u001b[0;34m,\u001b[0m \u001b[0mmemory_size\u001b[0m\u001b[0;34m,\u001b[0m \u001b[0mgamma\u001b[0m\u001b[0;34m,\u001b[0m \u001b[0mTAU\u001b[0m\u001b[0;34m,\u001b[0m \u001b[0mdisplay_freq\u001b[0m\u001b[0;34m)\u001b[0m\u001b[0;34m\u001b[0m\u001b[0;34m\u001b[0m\u001b[0m\n\u001b[0;32m---> 12\u001b[0;31m \u001b[0mdqn\u001b[0m\u001b[0;34m.\u001b[0m\u001b[0mtraining_loop\u001b[0m\u001b[0;34m(\u001b[0m\u001b[0;34m)\u001b[0m\u001b[0;34m\u001b[0m\u001b[0;34m\u001b[0m\u001b[0m\n\u001b[0m\u001b[1;32m     13\u001b[0m \u001b[0mprint\u001b[0m\u001b[0;34m(\u001b[0m\u001b[0;34m'time='\u001b[0m\u001b[0;34m,\u001b[0m \u001b[0mtime\u001b[0m\u001b[0;34m.\u001b[0m\u001b[0mtime\u001b[0m\u001b[0;34m(\u001b[0m\u001b[0;34m)\u001b[0m \u001b[0;34m-\u001b[0m \u001b[0mst\u001b[0m\u001b[0;34m)\u001b[0m\u001b[0;34m\u001b[0m\u001b[0;34m\u001b[0m\u001b[0m\n",
            "\u001b[0;32m<ipython-input-18-57bb8945a4a6>\u001b[0m in \u001b[0;36mtraining_loop\u001b[0;34m(self)\u001b[0m\n\u001b[1;32m     84\u001b[0m                 \u001b[0mself\u001b[0m\u001b[0;34m.\u001b[0m\u001b[0mmemory\u001b[0m\u001b[0;34m.\u001b[0m\u001b[0mpush\u001b[0m\u001b[0;34m(\u001b[0m\u001b[0mstate\u001b[0m\u001b[0;34m,\u001b[0m \u001b[0maction\u001b[0m\u001b[0;34m,\u001b[0m \u001b[0mnext_state\u001b[0m\u001b[0;34m,\u001b[0m \u001b[0mreward\u001b[0m\u001b[0;34m)\u001b[0m\u001b[0;34m\u001b[0m\u001b[0;34m\u001b[0m\u001b[0m\n\u001b[1;32m     85\u001b[0m                 \u001b[0mstate\u001b[0m \u001b[0;34m=\u001b[0m \u001b[0mnext_state\u001b[0m\u001b[0;34m\u001b[0m\u001b[0;34m\u001b[0m\u001b[0m\n\u001b[0;32m---> 86\u001b[0;31m                 \u001b[0mself\u001b[0m\u001b[0;34m.\u001b[0m\u001b[0moptimize_model\u001b[0m\u001b[0;34m(\u001b[0m\u001b[0;34m)\u001b[0m\u001b[0;34m\u001b[0m\u001b[0;34m\u001b[0m\u001b[0m\n\u001b[0m\u001b[1;32m     87\u001b[0m                 \u001b[0mtarget_nn_state_dict\u001b[0m \u001b[0;34m=\u001b[0m \u001b[0mself\u001b[0m\u001b[0;34m.\u001b[0m\u001b[0mtarget_nn\u001b[0m\u001b[0;34m.\u001b[0m\u001b[0mstate_dict\u001b[0m\u001b[0;34m(\u001b[0m\u001b[0;34m)\u001b[0m\u001b[0;34m\u001b[0m\u001b[0;34m\u001b[0m\u001b[0m\n\u001b[1;32m     88\u001b[0m                 \u001b[0mq_nn_state_dict\u001b[0m \u001b[0;34m=\u001b[0m \u001b[0mself\u001b[0m\u001b[0;34m.\u001b[0m\u001b[0mq_nn\u001b[0m\u001b[0;34m.\u001b[0m\u001b[0mstate_dict\u001b[0m\u001b[0;34m(\u001b[0m\u001b[0;34m)\u001b[0m\u001b[0;34m\u001b[0m\u001b[0;34m\u001b[0m\u001b[0m\n",
            "\u001b[0;32m<ipython-input-18-57bb8945a4a6>\u001b[0m in \u001b[0;36moptimize_model\u001b[0;34m(self)\u001b[0m\n\u001b[1;32m     54\u001b[0m             \u001b[0mself\u001b[0m\u001b[0;34m.\u001b[0m\u001b[0mlog_loss\u001b[0m\u001b[0;34m.\u001b[0m\u001b[0mappend\u001b[0m\u001b[0;34m(\u001b[0m\u001b[0mloss\u001b[0m\u001b[0;34m.\u001b[0m\u001b[0mclone\u001b[0m\u001b[0;34m(\u001b[0m\u001b[0;34m)\u001b[0m\u001b[0;34m.\u001b[0m\u001b[0mdetach\u001b[0m\u001b[0;34m(\u001b[0m\u001b[0;34m)\u001b[0m\u001b[0;34m.\u001b[0m\u001b[0mcpu\u001b[0m\u001b[0;34m(\u001b[0m\u001b[0;34m)\u001b[0m\u001b[0;34m.\u001b[0m\u001b[0mnumpy\u001b[0m\u001b[0;34m(\u001b[0m\u001b[0;34m)\u001b[0m\u001b[0;34m.\u001b[0m\u001b[0msum\u001b[0m\u001b[0;34m(\u001b[0m\u001b[0;34m)\u001b[0m\u001b[0;34m)\u001b[0m\u001b[0;34m\u001b[0m\u001b[0;34m\u001b[0m\u001b[0m\n\u001b[1;32m     55\u001b[0m             \u001b[0mself\u001b[0m\u001b[0;34m.\u001b[0m\u001b[0moptimizer\u001b[0m\u001b[0;34m.\u001b[0m\u001b[0mzero_grad\u001b[0m\u001b[0;34m(\u001b[0m\u001b[0;34m)\u001b[0m\u001b[0;34m\u001b[0m\u001b[0;34m\u001b[0m\u001b[0m\n\u001b[0;32m---> 56\u001b[0;31m             \u001b[0mloss\u001b[0m\u001b[0;34m.\u001b[0m\u001b[0mbackward\u001b[0m\u001b[0;34m(\u001b[0m\u001b[0;34m)\u001b[0m\u001b[0;34m\u001b[0m\u001b[0;34m\u001b[0m\u001b[0m\n\u001b[0m\u001b[1;32m     57\u001b[0m             \u001b[0mtorch\u001b[0m\u001b[0;34m.\u001b[0m\u001b[0mnn\u001b[0m\u001b[0;34m.\u001b[0m\u001b[0mutils\u001b[0m\u001b[0;34m.\u001b[0m\u001b[0mclip_grad_value_\u001b[0m\u001b[0;34m(\u001b[0m\u001b[0mself\u001b[0m\u001b[0;34m.\u001b[0m\u001b[0mq_nn\u001b[0m\u001b[0;34m.\u001b[0m\u001b[0mparameters\u001b[0m\u001b[0;34m(\u001b[0m\u001b[0;34m)\u001b[0m\u001b[0;34m,\u001b[0m \u001b[0;36m100\u001b[0m\u001b[0;34m)\u001b[0m\u001b[0;34m\u001b[0m\u001b[0;34m\u001b[0m\u001b[0m\n\u001b[1;32m     58\u001b[0m             \u001b[0mself\u001b[0m\u001b[0;34m.\u001b[0m\u001b[0moptimizer\u001b[0m\u001b[0;34m.\u001b[0m\u001b[0mstep\u001b[0m\u001b[0;34m(\u001b[0m\u001b[0;34m)\u001b[0m\u001b[0;34m\u001b[0m\u001b[0;34m\u001b[0m\u001b[0m\n",
            "\u001b[0;32m/usr/local/lib/python3.8/dist-packages/torch/_tensor.py\u001b[0m in \u001b[0;36mbackward\u001b[0;34m(self, gradient, retain_graph, create_graph, inputs)\u001b[0m\n\u001b[1;32m    486\u001b[0m                 \u001b[0minputs\u001b[0m\u001b[0;34m=\u001b[0m\u001b[0minputs\u001b[0m\u001b[0;34m,\u001b[0m\u001b[0;34m\u001b[0m\u001b[0;34m\u001b[0m\u001b[0m\n\u001b[1;32m    487\u001b[0m             )\n\u001b[0;32m--> 488\u001b[0;31m         torch.autograd.backward(\n\u001b[0m\u001b[1;32m    489\u001b[0m             \u001b[0mself\u001b[0m\u001b[0;34m,\u001b[0m \u001b[0mgradient\u001b[0m\u001b[0;34m,\u001b[0m \u001b[0mretain_graph\u001b[0m\u001b[0;34m,\u001b[0m \u001b[0mcreate_graph\u001b[0m\u001b[0;34m,\u001b[0m \u001b[0minputs\u001b[0m\u001b[0;34m=\u001b[0m\u001b[0minputs\u001b[0m\u001b[0;34m\u001b[0m\u001b[0;34m\u001b[0m\u001b[0m\n\u001b[1;32m    490\u001b[0m         )\n",
            "\u001b[0;32m/usr/local/lib/python3.8/dist-packages/torch/autograd/__init__.py\u001b[0m in \u001b[0;36mbackward\u001b[0;34m(tensors, grad_tensors, retain_graph, create_graph, grad_variables, inputs)\u001b[0m\n\u001b[1;32m    195\u001b[0m     \u001b[0;31m# some Python versions print out the first line of a multi-line function\u001b[0m\u001b[0;34m\u001b[0m\u001b[0;34m\u001b[0m\u001b[0;34m\u001b[0m\u001b[0m\n\u001b[1;32m    196\u001b[0m     \u001b[0;31m# calls in the traceback and some print out the last line\u001b[0m\u001b[0;34m\u001b[0m\u001b[0;34m\u001b[0m\u001b[0;34m\u001b[0m\u001b[0m\n\u001b[0;32m--> 197\u001b[0;31m     Variable._execution_engine.run_backward(  # Calls into the C++ engine to run the backward pass\n\u001b[0m\u001b[1;32m    198\u001b[0m         \u001b[0mtensors\u001b[0m\u001b[0;34m,\u001b[0m \u001b[0mgrad_tensors_\u001b[0m\u001b[0;34m,\u001b[0m \u001b[0mretain_graph\u001b[0m\u001b[0;34m,\u001b[0m \u001b[0mcreate_graph\u001b[0m\u001b[0;34m,\u001b[0m \u001b[0minputs\u001b[0m\u001b[0;34m,\u001b[0m\u001b[0;34m\u001b[0m\u001b[0;34m\u001b[0m\u001b[0m\n\u001b[1;32m    199\u001b[0m         allow_unreachable=True, accumulate_grad=True)  # Calls into the C++ engine to run the backward pass\n",
            "\u001b[0;31mKeyboardInterrupt\u001b[0m: "
          ]
        }
      ]
    },
    {
      "cell_type": "code",
      "source": [
        "dqn.log_loss"
      ],
      "metadata": {
        "colab": {
          "base_uri": "https://localhost:8080/",
          "height": 283
        },
        "id": "KeuuVsb3stEb",
        "outputId": "b01ac329-17fa-4881-bf7c-8e81875da23c"
      },
      "execution_count": 17,
      "outputs": [
        {
          "output_type": "execute_result",
          "data": {
            "text/plain": [
              "[<matplotlib.lines.Line2D at 0x7f66619fce50>]"
            ]
          },
          "metadata": {},
          "execution_count": 17
        },
        {
          "output_type": "display_data",
          "data": {
            "text/plain": [
              "<Figure size 432x288 with 1 Axes>"
            ],
            "image/png": "[encoded data removed]"
          },
          "metadata": {
            "needs_background": "light"
          }
        }
      ]
    },
    {
      "cell_type": "code",
      "source": [
        "import gym\n",
        "import torch\n",
        "import torch.nn as nn\n",
        "import torch.optim as optim\n",
        "\n",
        "# create the CartPole environment\n",
        "env = gym.make('CartPole-v0')\n",
        "env._max_episode_steps = 4000\n",
        "\n",
        "# define the neural network\n",
        "class PolicyNetwork(nn.Module):\n",
        "    def __init__(self, input_size, output_size):\n",
        "        super(PolicyNetwork, self).__init__()\n",
        "        self.fc = nn.Linear(input_size, output_size)\n",
        "\n",
        "    def forward(self, x):\n",
        "        x = self.fc(x)\n",
        "        return x\n",
        "\n",
        "# initialize the policy network\n",
        "policy_net = PolicyNetwork(4, 2)\n",
        "\n",
        "# define the optimizer\n",
        "optimizer = optim.Adam(policy_net.parameters())\n",
        "\n",
        "# define the loss function\n",
        "loss_fn = nn.CrossEntropyLoss()\n",
        "\n",
        "# set the number of episodes\n",
        "num_episodes = 2000\n",
        "\n",
        "# set the maximum duration of the CartPole\n",
        "max_duration = 4000\n",
        "durations = []\n",
        "# train the policy network\n",
        "current_max = 0\n",
        "for episode in range(num_episodes):\n",
        "    # reset the environment\n",
        "    state = env.reset()\n",
        "    done = False\n",
        "    duration = 0\n",
        "    while not done:\n",
        "        # convert the state to a tensor\n",
        "        state = torch.from_numpy(state).float()\n",
        "        # forward pass through the policy network\n",
        "        action_probs = policy_net(state)\n",
        "        # sample an action from the action probabilities\n",
        "        action = torch.argmax(action_probs).item()\n",
        "        # take the action in the environment\n",
        "        next_state, reward, done, _ = env.step(action)\n",
        "        # update the state\n",
        "        state = next_state\n",
        "        # update the duration\n",
        "        duration += 1\n",
        "        # check if the duration has exceeded the maximum\n",
        "        if duration >= max_duration:\n",
        "            done = True\n",
        "    # calculate the loss\n",
        "    loss = loss_fn(action_probs.unsqueeze(0), torch.tensor([action]))\n",
        "    # backpropagate the loss\n",
        "    loss.backward()\n",
        "    # update the policy network's parameters\n",
        "    optimizer.step()\n",
        "    # reset the optimizer's gradients\n",
        "    optimizer.zero_grad()\n",
        "    durations.append(duration)\n",
        "    if current_max < duration:\n",
        "        current_max = duration\n",
        "        print('duration=', current_max)\n",
        "    plt.plot(durations)"
      ],
      "metadata": {
        "colab": {
          "base_uri": "https://localhost:8080/",
          "height": 301
        },
        "id": "RfRyFydQEON8",
        "outputId": "91167724-a93c-43c1-fa28-4e39c3f496a6"
      },
      "execution_count": 8,
      "outputs": [
        {
          "output_type": "stream",
          "name": "stdout",
          "text": [
            "duration= 10\n",
            "duration= 11\n"
          ]
        },
        {
          "output_type": "display_data",
          "data": {
            "text/plain": [
              "<Figure size 432x288 with 1 Axes>"
            ],
            "image/png": "[encoded data removed]"
          },
          "metadata": {
            "needs_background": "light"
          }
        }
      ]
    },
    {
      "cell_type": "code",
      "source": [],
      "metadata": {
        "id": "_Q9I1AKCkiYQ"
      },
      "execution_count": null,
      "outputs": []
    }
  ]
}