{
  "nbformat": 4,
  "nbformat_minor": 0,
  "metadata": {
    "colab": {
      "provenance": [],
      "authorship_tag": "ABX9TyO22S8NQf+Y62cOr5myzysC",
      "include_colab_link": true
    },
    "kernelspec": {
      "name": "python3",
      "display_name": "Python 3"
    },
    "language_info": {
      "name": "python"
    }
  },
  "cells": [
    {
      "cell_type": "markdown",
      "metadata": {
        "id": "view-in-github",
        "colab_type": "text"
      },
      "source": [
        "<a href=\"https://colab.research.google.com/github/alunfes/1m-btc-data/blob/master/AutoEncoder.ipynb\" target=\"_parent\"><img src=\"https://colab.research.google.com/assets/colab-badge.svg\" alt=\"Open In Colab\"/></a>"
      ]
    },
    {
      "cell_type": "code",
      "execution_count": 1,
      "metadata": {
        "colab": {
          "base_uri": "https://localhost:8080/"
        },
        "id": "qpVpS2ERi6-7",
        "outputId": "909867c8-2884-49dc-9f63-ea4ee4599651"
      },
      "outputs": [
        {
          "output_type": "stream",
          "name": "stdout",
          "text": [
            "Mounted at /content/drive\n"
          ]
        }
      ],
      "source": [
        "from google.colab import drive\n",
        "drive.mount('/content/drive')"
      ]
    },
    {
      "cell_type": "code",
      "source": [
        "import tensorflow as tf\n",
        "print(tf.__version__)\n",
        "from sklearn.model_selection import train_test_split\n",
        "from sklearn.metrics import accuracy_score, f1_score\n",
        "from sklearn.preprocessing import MinMaxScaler\n",
        "from sklearn.preprocessing import StandardScaler\n",
        "import matplotlib.pyplot as plt\n",
        "import numpy as np\n",
        "import pandas as pd\n",
        "from datetime import datetime, timedelta, timezone\n",
        "from sklearn.model_selection import train_test_split\n",
        "import time\n",
        "import random\n",
        "\n",
        "from keras.models import Sequential, Model\n",
        "from keras.layers import InputLayer, Input, Dense, Dropout, Conv1D, MaxPooling1D, BatchNormalization, Flatten, AveragePooling1D, concatenate, Flatten, TimeDistributed\n",
        "from keras import optimizers,regularizers\n",
        "from keras.layers import LSTM\n",
        "from keras.preprocessing.sequence import TimeseriesGenerator\n",
        "from keras import backend as K\n",
        "from tensorflow.keras.callbacks import EarlyStopping"
      ],
      "metadata": {
        "colab": {
          "base_uri": "https://localhost:8080/"
        },
        "id": "H3rM2Xc7jB8J",
        "outputId": "e97a9046-2dee-4a9d-fcbe-7fba85181e89"
      },
      "execution_count": 2,
      "outputs": [
        {
          "output_type": "stream",
          "name": "stdout",
          "text": [
            "2.9.2\n"
          ]
        }
      ]
    },
    {
      "cell_type": "code",
      "source": [
        "class MarketData:\n",
        "    @classmethod\n",
        "    def initialize(cls):\n",
        "        cls.df = pd.DataFrame()\n",
        "        cls.ts = []\n",
        "        cls.open = []\n",
        "        cls.high = []\n",
        "        cls.low = []\n",
        "        cls.close = []\n",
        "        cls.vol = []\n",
        "        cls.__read_data()\n",
        "        cls.logopen = list(np.log(cls.open))\n",
        "        cls.loghigh = list(np.log(cls.high))\n",
        "        cls.loglow = list(np.log(cls.low))\n",
        "        cls.logclose = list(np.log(cls.close))\n",
        "        cls.close_change_ratio = list(np.array(pd.DataFrame(cls.close).pct_change().values.tolist()).reshape(len(cls.close)))\n",
        "        cls.logclose_change_ratio = list(np.array(pd.DataFrame(cls.logclose).pct_change().values.tolist()).reshape(len(cls.logclose)))\n",
        "    \n",
        "    @classmethod\n",
        "    def __read_data(cls):\n",
        "        cls.df = pd.read_csv('/content/drive/My Drive/BTC-PERP-1mcp.csv')\n",
        "        cls.ts = list(cls.df['ts'])\n",
        "        cls.open = list(cls.df['open'])\n",
        "        cls.high = list(cls.df['high'])\n",
        "        cls.low = list(cls.df['low'])\n",
        "        cls.close = list(cls.df['close'])\n",
        "        cls.vol = list(cls.df['volume'])\n",
        "    "
      ],
      "metadata": {
        "id": "FnLOmJzVjdD7"
      },
      "execution_count": 3,
      "outputs": []
    },
    {
      "cell_type": "code",
      "source": [
        "MarketData.initialize()"
      ],
      "metadata": {
        "id": "5IfpPm6vjw7x"
      },
      "execution_count": 4,
      "outputs": []
    },
    {
      "cell_type": "code",
      "source": [
        "#generate minmax sacled data of input / output for auto encoder\n",
        "def DataGenerator(from_ind, to_ind, data_length, sampling_window):\n",
        "    x = []\n",
        "    y = []\n",
        "    current_start = from_ind\n",
        "    mmsc = MinMaxScaler(feature_range=(0,1), copy=True)\n",
        "    while True:\n",
        "        x.append(mmsc.fit_transform(np.array(MarketData.logclose_change_ratio[current_start : current_start + data_length]).reshape(-1,1)))\n",
        "        y.append(mmsc.fit_transform(np.array(MarketData.logclose_change_ratio[current_start : current_start + data_length]).reshape(-1,1)))\n",
        "        current_start += sampling_window\n",
        "        if current_start >= to_ind:\n",
        "            break\n",
        "    return x, y\n",
        "data_length = 30\n",
        "x, y = DataGenerator(100000, 1300000, data_length, 500)"
      ],
      "metadata": {
        "id": "kHPfxKdkj1uG"
      },
      "execution_count": 5,
      "outputs": []
    },
    {
      "cell_type": "code",
      "source": [
        "#tx = tf.data.Dataset.from_tensor_slices(x)\n",
        "#ty = tf.data.Dataset.from_tensor_slices(y)"
      ],
      "metadata": {
        "id": "KU-79i_BowMa"
      },
      "execution_count": 6,
      "outputs": []
    },
    {
      "cell_type": "code",
      "source": [
        "train_x, test_x = train_test_split(np.array(x), test_size=0.2, shuffle=False)\n",
        "train_y, test_y = train_test_split(np.array(y), test_size=0.2, shuffle=False)\n",
        "train_x = np.squeeze(train_x)\n",
        "test_x = np.squeeze(test_x)\n",
        "train_y = np.squeeze(train_y)\n",
        "test_y = np.squeeze(test_y)\n",
        "print('train_x shape=', train_x.shape)\n",
        "print('test_x shape=', test_x.shape)\n",
        "print('train_y shape=', train_y.shape)\n",
        "print('test_y shape=', test_y.shape)"
      ],
      "metadata": {
        "colab": {
          "base_uri": "https://localhost:8080/"
        },
        "id": "BVxoQ_VyLJMc",
        "outputId": "657c5eec-4083-4685-9f39-f02c4e219e51"
      },
      "execution_count": 7,
      "outputs": [
        {
          "output_type": "stream",
          "name": "stdout",
          "text": [
            "train_x shape= (1920, 30)\n",
            "test_x shape= (480, 30)\n",
            "train_y shape= (1920, 30)\n",
            "test_y shape= (480, 30)\n"
          ]
        }
      ]
    },
    {
      "cell_type": "code",
      "source": [
        "early_stopping = EarlyStopping(patience=10)\n",
        "input = Input(shape=(data_length,))\n",
        "encoder = Dense(data_length, activation='softsign')(input)\n",
        "encoder = BatchNormalization()(encoder)\n",
        "encoder = Dense(round(data_length * 0.5), activation='softsign')(encoder)\n",
        "encoder = BatchNormalization()(encoder)\n",
        "encoder = Dense(data_length, activation='softsign')(encoder)\n",
        "encoder = BatchNormalization()(encoder)\n",
        "decoder = Dense(data_length, activation = 'sigmoid')(encoder)\n",
        "model = Model(inputs=input, outputs=decoder)\n",
        "model.compile(optimizer='adam',\n",
        "              loss='mse',\n",
        "              metrics=['accuracy'])\n",
        "display(model.summary())"
      ],
      "metadata": {
        "colab": {
          "base_uri": "https://localhost:8080/",
          "height": 535
        },
        "id": "eUqgL4zxvXDc",
        "outputId": "7d4d1565-ff99-48a3-d00b-205a449c4591"
      },
      "execution_count": 8,
      "outputs": [
        {
          "output_type": "stream",
          "name": "stdout",
          "text": [
            "Model: \"model\"\n",
            "_________________________________________________________________\n",
            " Layer (type)                Output Shape              Param #   \n",
            "=================================================================\n",
            " input_1 (InputLayer)        [(None, 30)]              0         \n",
            "                                                                 \n",
            " dense (Dense)               (None, 30)                930       \n",
            "                                                                 \n",
            " batch_normalization (BatchN  (None, 30)               120       \n",
            " ormalization)                                                   \n",
            "                                                                 \n",
            " dense_1 (Dense)             (None, 15)                465       \n",
            "                                                                 \n",
            " batch_normalization_1 (Batc  (None, 15)               60        \n",
            " hNormalization)                                                 \n",
            "                                                                 \n",
            " dense_2 (Dense)             (None, 30)                480       \n",
            "                                                                 \n",
            " batch_normalization_2 (Batc  (None, 30)               120       \n",
            " hNormalization)                                                 \n",
            "                                                                 \n",
            " dense_3 (Dense)             (None, 30)                930       \n",
            "                                                                 \n",
            "=================================================================\n",
            "Total params: 3,105\n",
            "Trainable params: 2,955\n",
            "Non-trainable params: 150\n",
            "_________________________________________________________________\n"
          ]
        },
        {
          "output_type": "display_data",
          "data": {
            "text/plain": [
              "None"
            ]
          },
          "metadata": {}
        }
      ]
    },
    {
      "cell_type": "code",
      "source": [
        "hist = model.fit(train_x, train_y, validation_split=0.1, epochs=200, callbacks=[early_stopping])\n",
        "print(model.evaluate(test_x, test_y))"
      ],
      "metadata": {
        "colab": {
          "base_uri": "https://localhost:8080/"
        },
        "id": "9uM6sy7mwGR3",
        "outputId": "2ec93b8a-37c1-4280-aadf-5146c7eae64c"
      },
      "execution_count": 9,
      "outputs": [
        {
          "output_type": "stream",
          "name": "stdout",
          "text": [
            "Epoch 1/200\n",
            "54/54 [==============================] - 1s 5ms/step - loss: 0.0781 - accuracy: 0.0590 - val_loss: 0.0616 - val_accuracy: 0.0781\n",
            "Epoch 2/200\n",
            "54/54 [==============================] - 0s 2ms/step - loss: 0.0472 - accuracy: 0.1291 - val_loss: 0.0585 - val_accuracy: 0.1510\n",
            "Epoch 3/200\n",
            "54/54 [==============================] - 0s 2ms/step - loss: 0.0403 - accuracy: 0.2147 - val_loss: 0.0525 - val_accuracy: 0.1927\n",
            "Epoch 4/200\n",
            "54/54 [==============================] - 0s 2ms/step - loss: 0.0367 - accuracy: 0.2407 - val_loss: 0.0456 - val_accuracy: 0.2240\n",
            "Epoch 5/200\n",
            "54/54 [==============================] - 0s 2ms/step - loss: 0.0348 - accuracy: 0.2581 - val_loss: 0.0406 - val_accuracy: 0.2448\n",
            "Epoch 6/200\n",
            "54/54 [==============================] - 0s 2ms/step - loss: 0.0333 - accuracy: 0.2743 - val_loss: 0.0376 - val_accuracy: 0.2344\n",
            "Epoch 7/200\n",
            "54/54 [==============================] - 0s 2ms/step - loss: 0.0322 - accuracy: 0.2975 - val_loss: 0.0355 - val_accuracy: 0.2760\n",
            "Epoch 8/200\n",
            "54/54 [==============================] - 0s 2ms/step - loss: 0.0314 - accuracy: 0.3073 - val_loss: 0.0345 - val_accuracy: 0.2865\n",
            "Epoch 9/200\n",
            "54/54 [==============================] - 0s 2ms/step - loss: 0.0307 - accuracy: 0.3212 - val_loss: 0.0335 - val_accuracy: 0.2917\n",
            "Epoch 10/200\n",
            "54/54 [==============================] - 0s 2ms/step - loss: 0.0304 - accuracy: 0.3368 - val_loss: 0.0333 - val_accuracy: 0.2708\n",
            "Epoch 11/200\n",
            "54/54 [==============================] - 0s 2ms/step - loss: 0.0300 - accuracy: 0.3328 - val_loss: 0.0326 - val_accuracy: 0.3125\n",
            "Epoch 12/200\n",
            "54/54 [==============================] - 0s 2ms/step - loss: 0.0299 - accuracy: 0.3258 - val_loss: 0.0323 - val_accuracy: 0.3177\n",
            "Epoch 13/200\n",
            "54/54 [==============================] - 0s 2ms/step - loss: 0.0295 - accuracy: 0.3316 - val_loss: 0.0321 - val_accuracy: 0.3125\n",
            "Epoch 14/200\n",
            "54/54 [==============================] - 0s 3ms/step - loss: 0.0293 - accuracy: 0.3559 - val_loss: 0.0320 - val_accuracy: 0.3125\n",
            "Epoch 15/200\n",
            "54/54 [==============================] - 0s 2ms/step - loss: 0.0292 - accuracy: 0.3530 - val_loss: 0.0317 - val_accuracy: 0.3281\n",
            "Epoch 16/200\n",
            "54/54 [==============================] - 0s 2ms/step - loss: 0.0290 - accuracy: 0.3455 - val_loss: 0.0312 - val_accuracy: 0.3438\n",
            "Epoch 17/200\n",
            "54/54 [==============================] - 0s 2ms/step - loss: 0.0289 - accuracy: 0.3461 - val_loss: 0.0313 - val_accuracy: 0.3229\n",
            "Epoch 18/200\n",
            "54/54 [==============================] - 0s 2ms/step - loss: 0.0289 - accuracy: 0.3536 - val_loss: 0.0314 - val_accuracy: 0.3385\n",
            "Epoch 19/200\n",
            "54/54 [==============================] - 0s 2ms/step - loss: 0.0284 - accuracy: 0.3484 - val_loss: 0.0311 - val_accuracy: 0.3281\n",
            "Epoch 20/200\n",
            "54/54 [==============================] - 0s 2ms/step - loss: 0.0283 - accuracy: 0.3542 - val_loss: 0.0310 - val_accuracy: 0.3125\n",
            "Epoch 21/200\n",
            "54/54 [==============================] - 0s 2ms/step - loss: 0.0283 - accuracy: 0.3438 - val_loss: 0.0310 - val_accuracy: 0.3229\n",
            "Epoch 22/200\n",
            "54/54 [==============================] - 0s 2ms/step - loss: 0.0281 - accuracy: 0.3449 - val_loss: 0.0307 - val_accuracy: 0.3438\n",
            "Epoch 23/200\n",
            "54/54 [==============================] - 0s 2ms/step - loss: 0.0279 - accuracy: 0.3686 - val_loss: 0.0306 - val_accuracy: 0.3333\n",
            "Epoch 24/200\n",
            "54/54 [==============================] - 0s 2ms/step - loss: 0.0277 - accuracy: 0.3576 - val_loss: 0.0307 - val_accuracy: 0.3646\n",
            "Epoch 25/200\n",
            "54/54 [==============================] - 0s 2ms/step - loss: 0.0276 - accuracy: 0.3657 - val_loss: 0.0305 - val_accuracy: 0.3385\n",
            "Epoch 26/200\n",
            "54/54 [==============================] - 0s 2ms/step - loss: 0.0275 - accuracy: 0.3646 - val_loss: 0.0303 - val_accuracy: 0.3385\n",
            "Epoch 27/200\n",
            "54/54 [==============================] - 0s 2ms/step - loss: 0.0273 - accuracy: 0.3600 - val_loss: 0.0304 - val_accuracy: 0.3438\n",
            "Epoch 28/200\n",
            "54/54 [==============================] - 0s 2ms/step - loss: 0.0275 - accuracy: 0.3536 - val_loss: 0.0300 - val_accuracy: 0.3385\n",
            "Epoch 29/200\n",
            "54/54 [==============================] - 0s 2ms/step - loss: 0.0273 - accuracy: 0.3634 - val_loss: 0.0300 - val_accuracy: 0.3333\n",
            "Epoch 30/200\n",
            "54/54 [==============================] - 0s 2ms/step - loss: 0.0272 - accuracy: 0.3576 - val_loss: 0.0299 - val_accuracy: 0.3438\n",
            "Epoch 31/200\n",
            "54/54 [==============================] - 0s 2ms/step - loss: 0.0271 - accuracy: 0.3663 - val_loss: 0.0298 - val_accuracy: 0.3385\n",
            "Epoch 32/200\n",
            "54/54 [==============================] - 0s 2ms/step - loss: 0.0271 - accuracy: 0.3530 - val_loss: 0.0297 - val_accuracy: 0.3490\n",
            "Epoch 33/200\n",
            "54/54 [==============================] - 0s 2ms/step - loss: 0.0268 - accuracy: 0.3692 - val_loss: 0.0298 - val_accuracy: 0.3750\n",
            "Epoch 34/200\n",
            "54/54 [==============================] - 0s 2ms/step - loss: 0.0268 - accuracy: 0.3704 - val_loss: 0.0298 - val_accuracy: 0.3594\n",
            "Epoch 35/200\n",
            "54/54 [==============================] - 0s 2ms/step - loss: 0.0268 - accuracy: 0.3692 - val_loss: 0.0296 - val_accuracy: 0.3698\n",
            "Epoch 36/200\n",
            "54/54 [==============================] - 0s 2ms/step - loss: 0.0266 - accuracy: 0.3634 - val_loss: 0.0295 - val_accuracy: 0.3594\n",
            "Epoch 37/200\n",
            "54/54 [==============================] - 0s 2ms/step - loss: 0.0265 - accuracy: 0.3576 - val_loss: 0.0294 - val_accuracy: 0.3646\n",
            "Epoch 38/200\n",
            "54/54 [==============================] - 0s 5ms/step - loss: 0.0265 - accuracy: 0.3652 - val_loss: 0.0293 - val_accuracy: 0.3594\n",
            "Epoch 39/200\n",
            "54/54 [==============================] - 0s 4ms/step - loss: 0.0263 - accuracy: 0.3773 - val_loss: 0.0294 - val_accuracy: 0.3542\n",
            "Epoch 40/200\n",
            "54/54 [==============================] - 0s 2ms/step - loss: 0.0263 - accuracy: 0.3791 - val_loss: 0.0291 - val_accuracy: 0.3542\n",
            "Epoch 41/200\n",
            "54/54 [==============================] - 0s 3ms/step - loss: 0.0262 - accuracy: 0.3779 - val_loss: 0.0291 - val_accuracy: 0.3646\n",
            "Epoch 42/200\n",
            "54/54 [==============================] - 0s 6ms/step - loss: 0.0263 - accuracy: 0.3767 - val_loss: 0.0291 - val_accuracy: 0.3438\n",
            "Epoch 43/200\n",
            "54/54 [==============================] - 0s 6ms/step - loss: 0.0263 - accuracy: 0.3802 - val_loss: 0.0288 - val_accuracy: 0.3698\n",
            "Epoch 44/200\n",
            "54/54 [==============================] - 0s 7ms/step - loss: 0.0263 - accuracy: 0.3773 - val_loss: 0.0290 - val_accuracy: 0.3698\n",
            "Epoch 45/200\n",
            "54/54 [==============================] - 0s 7ms/step - loss: 0.0260 - accuracy: 0.3814 - val_loss: 0.0288 - val_accuracy: 0.3750\n",
            "Epoch 46/200\n",
            "54/54 [==============================] - 0s 8ms/step - loss: 0.0261 - accuracy: 0.3918 - val_loss: 0.0287 - val_accuracy: 0.3594\n",
            "Epoch 47/200\n",
            "54/54 [==============================] - 0s 5ms/step - loss: 0.0261 - accuracy: 0.3872 - val_loss: 0.0288 - val_accuracy: 0.3646\n",
            "Epoch 48/200\n",
            "54/54 [==============================] - 0s 7ms/step - loss: 0.0258 - accuracy: 0.3947 - val_loss: 0.0287 - val_accuracy: 0.3438\n",
            "Epoch 49/200\n",
            "54/54 [==============================] - 0s 7ms/step - loss: 0.0259 - accuracy: 0.3808 - val_loss: 0.0287 - val_accuracy: 0.3594\n",
            "Epoch 50/200\n",
            "54/54 [==============================] - 0s 4ms/step - loss: 0.0259 - accuracy: 0.3831 - val_loss: 0.0286 - val_accuracy: 0.3542\n",
            "Epoch 51/200\n",
            "54/54 [==============================] - 0s 3ms/step - loss: 0.0258 - accuracy: 0.3877 - val_loss: 0.0285 - val_accuracy: 0.3594\n",
            "Epoch 52/200\n",
            "54/54 [==============================] - 0s 5ms/step - loss: 0.0258 - accuracy: 0.3900 - val_loss: 0.0285 - val_accuracy: 0.3333\n",
            "Epoch 53/200\n",
            "54/54 [==============================] - 0s 6ms/step - loss: 0.0258 - accuracy: 0.3953 - val_loss: 0.0285 - val_accuracy: 0.3646\n",
            "Epoch 54/200\n",
            "54/54 [==============================] - 0s 4ms/step - loss: 0.0258 - accuracy: 0.3825 - val_loss: 0.0284 - val_accuracy: 0.3542\n",
            "Epoch 55/200\n",
            "54/54 [==============================] - 0s 4ms/step - loss: 0.0256 - accuracy: 0.3872 - val_loss: 0.0284 - val_accuracy: 0.3438\n",
            "Epoch 56/200\n",
            "54/54 [==============================] - 0s 3ms/step - loss: 0.0258 - accuracy: 0.3981 - val_loss: 0.0284 - val_accuracy: 0.3750\n",
            "Epoch 57/200\n",
            "54/54 [==============================] - 0s 3ms/step - loss: 0.0257 - accuracy: 0.3964 - val_loss: 0.0284 - val_accuracy: 0.3333\n",
            "Epoch 58/200\n",
            "54/54 [==============================] - 0s 4ms/step - loss: 0.0255 - accuracy: 0.3796 - val_loss: 0.0283 - val_accuracy: 0.3438\n",
            "Epoch 59/200\n",
            "54/54 [==============================] - 0s 7ms/step - loss: 0.0255 - accuracy: 0.3837 - val_loss: 0.0283 - val_accuracy: 0.3385\n",
            "Epoch 60/200\n",
            "54/54 [==============================] - 0s 3ms/step - loss: 0.0254 - accuracy: 0.3918 - val_loss: 0.0283 - val_accuracy: 0.3438\n",
            "Epoch 61/200\n",
            "54/54 [==============================] - 0s 2ms/step - loss: 0.0255 - accuracy: 0.3912 - val_loss: 0.0283 - val_accuracy: 0.3646\n",
            "Epoch 62/200\n",
            "54/54 [==============================] - 0s 2ms/step - loss: 0.0254 - accuracy: 0.4034 - val_loss: 0.0283 - val_accuracy: 0.3438\n",
            "Epoch 63/200\n",
            "54/54 [==============================] - 0s 2ms/step - loss: 0.0254 - accuracy: 0.3918 - val_loss: 0.0281 - val_accuracy: 0.3385\n",
            "Epoch 64/200\n",
            "54/54 [==============================] - 0s 2ms/step - loss: 0.0253 - accuracy: 0.3958 - val_loss: 0.0282 - val_accuracy: 0.3333\n",
            "Epoch 65/200\n",
            "54/54 [==============================] - 0s 2ms/step - loss: 0.0253 - accuracy: 0.3883 - val_loss: 0.0282 - val_accuracy: 0.3490\n",
            "Epoch 66/200\n",
            "54/54 [==============================] - 0s 2ms/step - loss: 0.0252 - accuracy: 0.3953 - val_loss: 0.0281 - val_accuracy: 0.3646\n",
            "Epoch 67/200\n",
            "54/54 [==============================] - 0s 2ms/step - loss: 0.0252 - accuracy: 0.4039 - val_loss: 0.0281 - val_accuracy: 0.3333\n",
            "Epoch 68/200\n",
            "54/54 [==============================] - 0s 2ms/step - loss: 0.0252 - accuracy: 0.3872 - val_loss: 0.0281 - val_accuracy: 0.3073\n",
            "Epoch 69/200\n",
            "54/54 [==============================] - 0s 2ms/step - loss: 0.0251 - accuracy: 0.3883 - val_loss: 0.0282 - val_accuracy: 0.3438\n",
            "Epoch 70/200\n",
            "54/54 [==============================] - 0s 2ms/step - loss: 0.0252 - accuracy: 0.3935 - val_loss: 0.0281 - val_accuracy: 0.3229\n",
            "Epoch 71/200\n",
            "54/54 [==============================] - 0s 2ms/step - loss: 0.0251 - accuracy: 0.3964 - val_loss: 0.0280 - val_accuracy: 0.3281\n",
            "Epoch 72/200\n",
            "54/54 [==============================] - 0s 2ms/step - loss: 0.0251 - accuracy: 0.3866 - val_loss: 0.0280 - val_accuracy: 0.3594\n",
            "Epoch 73/200\n",
            "54/54 [==============================] - 0s 2ms/step - loss: 0.0249 - accuracy: 0.3929 - val_loss: 0.0279 - val_accuracy: 0.3229\n",
            "Epoch 74/200\n",
            "54/54 [==============================] - 0s 2ms/step - loss: 0.0251 - accuracy: 0.3912 - val_loss: 0.0281 - val_accuracy: 0.3333\n",
            "Epoch 75/200\n",
            "54/54 [==============================] - 0s 2ms/step - loss: 0.0251 - accuracy: 0.3981 - val_loss: 0.0281 - val_accuracy: 0.3177\n",
            "Epoch 76/200\n",
            "54/54 [==============================] - 0s 2ms/step - loss: 0.0251 - accuracy: 0.3964 - val_loss: 0.0281 - val_accuracy: 0.3385\n",
            "Epoch 77/200\n",
            "54/54 [==============================] - 0s 2ms/step - loss: 0.0250 - accuracy: 0.4022 - val_loss: 0.0280 - val_accuracy: 0.3385\n",
            "Epoch 78/200\n",
            "54/54 [==============================] - 0s 2ms/step - loss: 0.0251 - accuracy: 0.3981 - val_loss: 0.0283 - val_accuracy: 0.3229\n",
            "Epoch 79/200\n",
            "54/54 [==============================] - 0s 2ms/step - loss: 0.0251 - accuracy: 0.3935 - val_loss: 0.0282 - val_accuracy: 0.3385\n",
            "Epoch 80/200\n",
            "54/54 [==============================] - 0s 2ms/step - loss: 0.0251 - accuracy: 0.3929 - val_loss: 0.0279 - val_accuracy: 0.3333\n",
            "Epoch 81/200\n",
            "54/54 [==============================] - 0s 2ms/step - loss: 0.0250 - accuracy: 0.3929 - val_loss: 0.0280 - val_accuracy: 0.3073\n",
            "Epoch 82/200\n",
            "54/54 [==============================] - 0s 2ms/step - loss: 0.0248 - accuracy: 0.3958 - val_loss: 0.0278 - val_accuracy: 0.3125\n",
            "Epoch 83/200\n",
            "54/54 [==============================] - 0s 2ms/step - loss: 0.0249 - accuracy: 0.3918 - val_loss: 0.0278 - val_accuracy: 0.3438\n",
            "Epoch 84/200\n",
            "54/54 [==============================] - 0s 2ms/step - loss: 0.0249 - accuracy: 0.3906 - val_loss: 0.0279 - val_accuracy: 0.3073\n",
            "Epoch 85/200\n",
            "54/54 [==============================] - 0s 2ms/step - loss: 0.0249 - accuracy: 0.3872 - val_loss: 0.0280 - val_accuracy: 0.3385\n",
            "Epoch 86/200\n",
            "54/54 [==============================] - 0s 2ms/step - loss: 0.0248 - accuracy: 0.3987 - val_loss: 0.0279 - val_accuracy: 0.3281\n",
            "Epoch 87/200\n",
            "54/54 [==============================] - 0s 2ms/step - loss: 0.0249 - accuracy: 0.3976 - val_loss: 0.0279 - val_accuracy: 0.3385\n",
            "Epoch 88/200\n",
            "54/54 [==============================] - 0s 2ms/step - loss: 0.0251 - accuracy: 0.3848 - val_loss: 0.0279 - val_accuracy: 0.3281\n",
            "Epoch 89/200\n",
            "54/54 [==============================] - 0s 2ms/step - loss: 0.0248 - accuracy: 0.3802 - val_loss: 0.0277 - val_accuracy: 0.3125\n",
            "Epoch 90/200\n",
            "54/54 [==============================] - 0s 2ms/step - loss: 0.0248 - accuracy: 0.3993 - val_loss: 0.0276 - val_accuracy: 0.3333\n",
            "Epoch 91/200\n",
            "54/54 [==============================] - 0s 2ms/step - loss: 0.0249 - accuracy: 0.3924 - val_loss: 0.0278 - val_accuracy: 0.3229\n",
            "Epoch 92/200\n",
            "54/54 [==============================] - 0s 2ms/step - loss: 0.0248 - accuracy: 0.3929 - val_loss: 0.0278 - val_accuracy: 0.3177\n",
            "Epoch 93/200\n",
            "54/54 [==============================] - 0s 2ms/step - loss: 0.0248 - accuracy: 0.3924 - val_loss: 0.0278 - val_accuracy: 0.3177\n",
            "Epoch 94/200\n",
            "54/54 [==============================] - 0s 2ms/step - loss: 0.0249 - accuracy: 0.3906 - val_loss: 0.0277 - val_accuracy: 0.3281\n",
            "Epoch 95/200\n",
            "54/54 [==============================] - 0s 2ms/step - loss: 0.0248 - accuracy: 0.3918 - val_loss: 0.0278 - val_accuracy: 0.3229\n",
            "Epoch 96/200\n",
            "54/54 [==============================] - 0s 2ms/step - loss: 0.0250 - accuracy: 0.3831 - val_loss: 0.0278 - val_accuracy: 0.3021\n",
            "Epoch 97/200\n",
            "54/54 [==============================] - 0s 2ms/step - loss: 0.0247 - accuracy: 0.3808 - val_loss: 0.0278 - val_accuracy: 0.3177\n",
            "Epoch 98/200\n",
            "54/54 [==============================] - 0s 2ms/step - loss: 0.0249 - accuracy: 0.3970 - val_loss: 0.0278 - val_accuracy: 0.3229\n",
            "Epoch 99/200\n",
            "54/54 [==============================] - 0s 2ms/step - loss: 0.0248 - accuracy: 0.3906 - val_loss: 0.0278 - val_accuracy: 0.3177\n",
            "Epoch 100/200\n",
            "54/54 [==============================] - 0s 2ms/step - loss: 0.0247 - accuracy: 0.4062 - val_loss: 0.0278 - val_accuracy: 0.3229\n",
            "15/15 [==============================] - 0s 1ms/step - loss: 0.0277 - accuracy: 0.3958\n",
            "[0.02768753096461296, 0.3958333432674408]\n"
          ]
        }
      ]
    },
    {
      "cell_type": "code",
      "source": [
        "early_stopping = EarlyStopping(patience=10)\n",
        "input = Input(shape=(data_length,))\n",
        "decoder = LSTM(30, input_shape=(round(data_length * 0.5), 1), activation='tanh', return_sequences=False)(input)\n",
        "decoder = Dense(data_length, activation='tanh')(decoder)\n",
        "model = Model(inputs=input, outputs=decoder)\n",
        "model.compile(optimizer='adam',\n",
        "              loss='mse',\n",
        "              metrics=['accuracy'])\n",
        "display(model.summary())"
      ],
      "metadata": {
        "colab": {
          "base_uri": "https://localhost:8080/",
          "height": 393
        },
        "id": "9g7E6Wh3gxx-",
        "outputId": "ae2c7215-6e45-45c0-fe30-a2524500eb6e"
      },
      "execution_count": 20,
      "outputs": [
        {
          "output_type": "error",
          "ename": "ValueError",
          "evalue": "ignored",
          "traceback": [
            "\u001b[0;31m---------------------------------------------------------------------------\u001b[0m",
            "\u001b[0;31mValueError\u001b[0m                                Traceback (most recent call last)",
            "\u001b[0;32m<ipython-input-20-8b08a58137d8>\u001b[0m in \u001b[0;36m<module>\u001b[0;34m\u001b[0m\n\u001b[1;32m      1\u001b[0m \u001b[0mearly_stopping\u001b[0m \u001b[0;34m=\u001b[0m \u001b[0mEarlyStopping\u001b[0m\u001b[0;34m(\u001b[0m\u001b[0mpatience\u001b[0m\u001b[0;34m=\u001b[0m\u001b[0;36m10\u001b[0m\u001b[0;34m)\u001b[0m\u001b[0;34m\u001b[0m\u001b[0;34m\u001b[0m\u001b[0m\n\u001b[1;32m      2\u001b[0m \u001b[0minput\u001b[0m \u001b[0;34m=\u001b[0m \u001b[0mInput\u001b[0m\u001b[0;34m(\u001b[0m\u001b[0mshape\u001b[0m\u001b[0;34m=\u001b[0m\u001b[0;34m(\u001b[0m\u001b[0mdata_length\u001b[0m\u001b[0;34m,\u001b[0m\u001b[0;34m)\u001b[0m\u001b[0;34m)\u001b[0m\u001b[0;34m\u001b[0m\u001b[0;34m\u001b[0m\u001b[0m\n\u001b[0;32m----> 3\u001b[0;31m \u001b[0mdecoder\u001b[0m \u001b[0;34m=\u001b[0m \u001b[0mLSTM\u001b[0m\u001b[0;34m(\u001b[0m\u001b[0;36m30\u001b[0m\u001b[0;34m,\u001b[0m \u001b[0minput_shape\u001b[0m\u001b[0;34m=\u001b[0m\u001b[0;34m(\u001b[0m\u001b[0mround\u001b[0m\u001b[0;34m(\u001b[0m\u001b[0mdata_length\u001b[0m \u001b[0;34m*\u001b[0m \u001b[0;36m0.5\u001b[0m\u001b[0;34m)\u001b[0m\u001b[0;34m,\u001b[0m \u001b[0;36m1\u001b[0m\u001b[0;34m)\u001b[0m\u001b[0;34m,\u001b[0m \u001b[0mactivation\u001b[0m\u001b[0;34m=\u001b[0m\u001b[0;34m'tanh'\u001b[0m\u001b[0;34m,\u001b[0m \u001b[0mreturn_sequences\u001b[0m\u001b[0;34m=\u001b[0m\u001b[0;32mFalse\u001b[0m\u001b[0;34m)\u001b[0m\u001b[0;34m(\u001b[0m\u001b[0minput\u001b[0m\u001b[0;34m)\u001b[0m\u001b[0;34m\u001b[0m\u001b[0;34m\u001b[0m\u001b[0m\n\u001b[0m\u001b[1;32m      4\u001b[0m \u001b[0mdecoder\u001b[0m \u001b[0;34m=\u001b[0m \u001b[0mDense\u001b[0m\u001b[0;34m(\u001b[0m\u001b[0mdata_length\u001b[0m\u001b[0;34m,\u001b[0m \u001b[0mactivation\u001b[0m\u001b[0;34m=\u001b[0m\u001b[0;34m'tanh'\u001b[0m\u001b[0;34m)\u001b[0m\u001b[0;34m(\u001b[0m\u001b[0mdecoder\u001b[0m\u001b[0;34m)\u001b[0m\u001b[0;34m\u001b[0m\u001b[0;34m\u001b[0m\u001b[0m\n\u001b[1;32m      5\u001b[0m \u001b[0mmodel\u001b[0m \u001b[0;34m=\u001b[0m \u001b[0mModel\u001b[0m\u001b[0;34m(\u001b[0m\u001b[0minputs\u001b[0m\u001b[0;34m=\u001b[0m\u001b[0minput\u001b[0m\u001b[0;34m,\u001b[0m \u001b[0moutputs\u001b[0m\u001b[0;34m=\u001b[0m\u001b[0mdecoder\u001b[0m\u001b[0;34m)\u001b[0m\u001b[0;34m\u001b[0m\u001b[0;34m\u001b[0m\u001b[0m\n",
            "\u001b[0;32m/usr/local/lib/python3.7/dist-packages/keras/layers/rnn/base_rnn.py\u001b[0m in \u001b[0;36m__call__\u001b[0;34m(self, inputs, initial_state, constants, **kwargs)\u001b[0m\n\u001b[1;32m    513\u001b[0m \u001b[0;34m\u001b[0m\u001b[0m\n\u001b[1;32m    514\u001b[0m     \u001b[0;32mif\u001b[0m \u001b[0minitial_state\u001b[0m \u001b[0;32mis\u001b[0m \u001b[0;32mNone\u001b[0m \u001b[0;32mand\u001b[0m \u001b[0mconstants\u001b[0m \u001b[0;32mis\u001b[0m \u001b[0;32mNone\u001b[0m\u001b[0;34m:\u001b[0m\u001b[0;34m\u001b[0m\u001b[0;34m\u001b[0m\u001b[0m\n\u001b[0;32m--> 515\u001b[0;31m       \u001b[0;32mreturn\u001b[0m \u001b[0msuper\u001b[0m\u001b[0;34m(\u001b[0m\u001b[0mRNN\u001b[0m\u001b[0;34m,\u001b[0m \u001b[0mself\u001b[0m\u001b[0;34m)\u001b[0m\u001b[0;34m.\u001b[0m\u001b[0m__call__\u001b[0m\u001b[0;34m(\u001b[0m\u001b[0minputs\u001b[0m\u001b[0;34m,\u001b[0m \u001b[0;34m**\u001b[0m\u001b[0mkwargs\u001b[0m\u001b[0;34m)\u001b[0m\u001b[0;34m\u001b[0m\u001b[0;34m\u001b[0m\u001b[0m\n\u001b[0m\u001b[1;32m    516\u001b[0m \u001b[0;34m\u001b[0m\u001b[0m\n\u001b[1;32m    517\u001b[0m     \u001b[0;31m# If any of `initial_state` or `constants` are specified and are Keras\u001b[0m\u001b[0;34m\u001b[0m\u001b[0;34m\u001b[0m\u001b[0;34m\u001b[0m\u001b[0m\n",
            "\u001b[0;32m/usr/local/lib/python3.7/dist-packages/keras/utils/traceback_utils.py\u001b[0m in \u001b[0;36merror_handler\u001b[0;34m(*args, **kwargs)\u001b[0m\n\u001b[1;32m     65\u001b[0m     \u001b[0;32mexcept\u001b[0m \u001b[0mException\u001b[0m \u001b[0;32mas\u001b[0m \u001b[0me\u001b[0m\u001b[0;34m:\u001b[0m  \u001b[0;31m# pylint: disable=broad-except\u001b[0m\u001b[0;34m\u001b[0m\u001b[0;34m\u001b[0m\u001b[0m\n\u001b[1;32m     66\u001b[0m       \u001b[0mfiltered_tb\u001b[0m \u001b[0;34m=\u001b[0m \u001b[0m_process_traceback_frames\u001b[0m\u001b[0;34m(\u001b[0m\u001b[0me\u001b[0m\u001b[0;34m.\u001b[0m\u001b[0m__traceback__\u001b[0m\u001b[0;34m)\u001b[0m\u001b[0;34m\u001b[0m\u001b[0;34m\u001b[0m\u001b[0m\n\u001b[0;32m---> 67\u001b[0;31m       \u001b[0;32mraise\u001b[0m \u001b[0me\u001b[0m\u001b[0;34m.\u001b[0m\u001b[0mwith_traceback\u001b[0m\u001b[0;34m(\u001b[0m\u001b[0mfiltered_tb\u001b[0m\u001b[0;34m)\u001b[0m \u001b[0;32mfrom\u001b[0m \u001b[0;32mNone\u001b[0m\u001b[0;34m\u001b[0m\u001b[0;34m\u001b[0m\u001b[0m\n\u001b[0m\u001b[1;32m     68\u001b[0m     \u001b[0;32mfinally\u001b[0m\u001b[0;34m:\u001b[0m\u001b[0;34m\u001b[0m\u001b[0;34m\u001b[0m\u001b[0m\n\u001b[1;32m     69\u001b[0m       \u001b[0;32mdel\u001b[0m \u001b[0mfiltered_tb\u001b[0m\u001b[0;34m\u001b[0m\u001b[0;34m\u001b[0m\u001b[0m\n",
            "\u001b[0;32m/usr/local/lib/python3.7/dist-packages/keras/engine/input_spec.py\u001b[0m in \u001b[0;36massert_input_compatibility\u001b[0;34m(input_spec, inputs, layer_name)\u001b[0m\n\u001b[1;32m    212\u001b[0m       \u001b[0mndim\u001b[0m \u001b[0;34m=\u001b[0m \u001b[0mshape\u001b[0m\u001b[0;34m.\u001b[0m\u001b[0mrank\u001b[0m\u001b[0;34m\u001b[0m\u001b[0;34m\u001b[0m\u001b[0m\n\u001b[1;32m    213\u001b[0m       \u001b[0;32mif\u001b[0m \u001b[0mndim\u001b[0m \u001b[0;34m!=\u001b[0m \u001b[0mspec\u001b[0m\u001b[0;34m.\u001b[0m\u001b[0mndim\u001b[0m\u001b[0;34m:\u001b[0m\u001b[0;34m\u001b[0m\u001b[0;34m\u001b[0m\u001b[0m\n\u001b[0;32m--> 214\u001b[0;31m         raise ValueError(f'Input {input_index} of layer \"{layer_name}\" '\n\u001b[0m\u001b[1;32m    215\u001b[0m                          \u001b[0;34m'is incompatible with the layer: '\u001b[0m\u001b[0;34m\u001b[0m\u001b[0;34m\u001b[0m\u001b[0m\n\u001b[1;32m    216\u001b[0m                          \u001b[0;34mf'expected ndim={spec.ndim}, found ndim={ndim}. '\u001b[0m\u001b[0;34m\u001b[0m\u001b[0;34m\u001b[0m\u001b[0m\n",
            "\u001b[0;31mValueError\u001b[0m: Input 0 of layer \"lstm_1\" is incompatible with the layer: expected ndim=3, found ndim=2. Full shape received: (None, 30)"
          ]
        }
      ]
    },
    {
      "cell_type": "code",
      "source": [],
      "metadata": {
        "id": "KYDnr_ksqOG2"
      },
      "execution_count": null,
      "outputs": []
    },
    {
      "cell_type": "code",
      "source": [
        "def displayWeightsHist(nn_model):\n",
        "    fig, ax = plt.subplots()\n",
        "    data = []\n",
        "    col = []\n",
        "    i = 0\n",
        "    for layer in nn_model.layers:\n",
        "        if len(layer.get_weights()) > 0:\n",
        "            data.append(layer.get_weights()[0])\n",
        "            col.append('layer-'+str(i))\n",
        "            ax.hist(data[-1], label=col[-1], bins=10)\n",
        "    ax.set_xlabel('Weights')\n",
        "    ax.set_ylabel('Frequency')\n",
        "    ax.legend()\n",
        "    plt.show()\n",
        "displayWeightsHist(model)"
      ],
      "metadata": {
        "colab": {
          "base_uri": "https://localhost:8080/",
          "height": 279
        },
        "id": "WrkqdXoCzNmE",
        "outputId": "1d24e883-eda1-4268-b113-3d7d1412b035"
      },
      "execution_count": 11,
      "outputs": [
        {
          "output_type": "display_data",
          "data": {
            "text/plain": [
              "<Figure size 432x288 with 1 Axes>"
            ],
            "image/png": "[encoded data removed]"
          },
          "metadata": {
            "needs_background": "light"
          }
        }
      ]
    },
    {
      "cell_type": "code",
      "source": [
        "res = model.predict(train_x)"
      ],
      "metadata": {
        "colab": {
          "base_uri": "https://localhost:8080/"
        },
        "id": "pgcQIdjWCTLy",
        "outputId": "9df73e8c-ab7f-42e7-9d97-453622607a04"
      },
      "execution_count": 12,
      "outputs": [
        {
          "output_type": "stream",
          "name": "stdout",
          "text": [
            "60/60 [==============================] - 0s 976us/step\n"
          ]
        }
      ]
    },
    {
      "cell_type": "code",
      "source": [
        "plt.plot(train_x[10])"
      ],
      "metadata": {
        "colab": {
          "base_uri": "https://localhost:8080/",
          "height": 283
        },
        "id": "ULkctvWVGm5v",
        "outputId": "557a1b08-e11e-4db7-ce8e-20e58e8d32a3"
      },
      "execution_count": 13,
      "outputs": [
        {
          "output_type": "execute_result",
          "data": {
            "text/plain": [
              "[<matplotlib.lines.Line2D at 0x7f979e247450>]"
            ]
          },
          "metadata": {},
          "execution_count": 13
        },
        {
          "output_type": "display_data",
          "data": {
            "text/plain": [
              "<Figure size 432x288 with 1 Axes>"
            ],
            "image/png": "[encoded data removed]"
          },
          "metadata": {
            "needs_background": "light"
          }
        }
      ]
    },
    {
      "cell_type": "code",
      "source": [
        "plt.plot(res[10])"
      ],
      "metadata": {
        "colab": {
          "base_uri": "https://localhost:8080/",
          "height": 283
        },
        "id": "SlThcuakGzHn",
        "outputId": "54a235c1-c535-47e7-ce87-70d0812bcd54"
      },
      "execution_count": 14,
      "outputs": [
        {
          "output_type": "execute_result",
          "data": {
            "text/plain": [
              "[<matplotlib.lines.Line2D at 0x7f979bd61b90>]"
            ]
          },
          "metadata": {},
          "execution_count": 14
        },
        {
          "output_type": "display_data",
          "data": {
            "text/plain": [
              "<Figure size 432x288 with 1 Axes>"
            ],
            "image/png": "[encoded data removed]"
          },
          "metadata": {
            "needs_background": "light"
          }
        }
      ]
    },
    {
      "cell_type": "code",
      "source": [
        "tra"
      ],
      "metadata": {
        "colab": {
          "base_uri": "https://localhost:8080/"
        },
        "id": "UrVx9xJAh_zN",
        "outputId": "3a899ff0-fb96-4de7-f9b1-2c9f8de1d1bf"
      },
      "execution_count": 85,
      "outputs": [
        {
          "output_type": "execute_result",
          "data": {
            "text/plain": [
              "[6, 9, 8, 10, 1, 3, 4, 7]"
            ]
          },
          "metadata": {},
          "execution_count": 85
        }
      ]
    },
    {
      "cell_type": "code",
      "source": [
        "tes"
      ],
      "metadata": {
        "colab": {
          "base_uri": "https://localhost:8080/"
        },
        "id": "BrBajOQsim7M",
        "outputId": "7942db3c-1000-4770-9d6c-6103adaa00c5"
      },
      "execution_count": 87,
      "outputs": [
        {
          "output_type": "execute_result",
          "data": {
            "text/plain": [
              "[2, 5]"
            ]
          },
          "metadata": {},
          "execution_count": 87
        }
      ]
    },
    {
      "cell_type": "code",
      "source": [],
      "metadata": {
        "id": "aofAIgtsinVZ"
      },
      "execution_count": null,
      "outputs": []
    }
  ]
}